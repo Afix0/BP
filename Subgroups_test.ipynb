{
  "cells": [
    {
      "cell_type": "code",
      "execution_count": null,
      "metadata": {
        "colab": {
          "base_uri": "https://localhost:8080/"
        },
        "id": "JhG9kk3-5b6F",
        "outputId": "cbe77b32-089e-4516-ea22-be125faa34d5"
      },
      "outputs": [
        {
          "output_type": "stream",
          "name": "stdout",
          "text": [
            "Collecting subgroups\n",
            "  Downloading subgroups-0.1.8-py3-none-any.whl.metadata (6.4 kB)\n",
            "Requirement already satisfied: pandas>=2.0.3 in /usr/local/lib/python3.10/dist-packages (from subgroups) (2.2.2)\n",
            "Collecting bitarray>=2.7.6 (from subgroups)\n",
            "  Downloading bitarray-2.9.2-cp310-cp310-manylinux_2_17_x86_64.manylinux2014_x86_64.whl.metadata (34 kB)\n",
            "Requirement already satisfied: statsmodels>=0.14.0 in /usr/local/lib/python3.10/dist-packages (from subgroups) (0.14.3)\n",
            "Requirement already satisfied: numpy>=1.22.4 in /usr/local/lib/python3.10/dist-packages (from pandas>=2.0.3->subgroups) (1.26.4)\n",
            "Requirement already satisfied: python-dateutil>=2.8.2 in /usr/local/lib/python3.10/dist-packages (from pandas>=2.0.3->subgroups) (2.8.2)\n",
            "Requirement already satisfied: pytz>=2020.1 in /usr/local/lib/python3.10/dist-packages (from pandas>=2.0.3->subgroups) (2024.2)\n",
            "Requirement already satisfied: tzdata>=2022.7 in /usr/local/lib/python3.10/dist-packages (from pandas>=2.0.3->subgroups) (2024.2)\n",
            "Requirement already satisfied: scipy!=1.9.2,>=1.8 in /usr/local/lib/python3.10/dist-packages (from statsmodels>=0.14.0->subgroups) (1.13.1)\n",
            "Requirement already satisfied: patsy>=0.5.6 in /usr/local/lib/python3.10/dist-packages (from statsmodels>=0.14.0->subgroups) (0.5.6)\n",
            "Requirement already satisfied: packaging>=21.3 in /usr/local/lib/python3.10/dist-packages (from statsmodels>=0.14.0->subgroups) (24.1)\n",
            "Requirement already satisfied: six in /usr/local/lib/python3.10/dist-packages (from patsy>=0.5.6->statsmodels>=0.14.0->subgroups) (1.16.0)\n",
            "Downloading subgroups-0.1.8-py3-none-any.whl (254 kB)\n",
            "\u001b[2K   \u001b[90m━━━━━━━━━━━━━━━━━━━━━━━━━━━━━━━━━━━━━━━━\u001b[0m \u001b[32m255.0/255.0 kB\u001b[0m \u001b[31m6.3 MB/s\u001b[0m eta \u001b[36m0:00:00\u001b[0m\n",
            "\u001b[?25hDownloading bitarray-2.9.2-cp310-cp310-manylinux_2_17_x86_64.manylinux2014_x86_64.whl (288 kB)\n",
            "\u001b[2K   \u001b[90m━━━━━━━━━━━━━━━━━━━━━━━━━━━━━━━━━━━━━━━━\u001b[0m \u001b[32m288.3/288.3 kB\u001b[0m \u001b[31m16.3 MB/s\u001b[0m eta \u001b[36m0:00:00\u001b[0m\n",
            "\u001b[?25hInstalling collected packages: bitarray, subgroups\n",
            "Successfully installed bitarray-2.9.2 subgroups-0.1.8\n"
          ]
        }
      ],
      "source": [
        "!pip install subgroups\n"
      ]
    },
    {
      "cell_type": "code",
      "execution_count": null,
      "metadata": {
        "colab": {
          "base_uri": "https://localhost:8080/"
        },
        "id": "dE6SlJfJ52ap",
        "outputId": "ac3483d9-4aae-4cb0-c5f6-e78bc684a388"
      },
      "outputs": [
        {
          "output_type": "stream",
          "name": "stderr",
          "text": [
            "test_Operator_evaluate_method (tests.core.test_operator.TestOperator) ... ok\n",
            "test_Operator_evaluate_method_with_pandasSeries (tests.core.test_operator.TestOperator) ... ok\n",
            "test_Operator_generate_from_str_method (tests.core.test_operator.TestOperator) ... ok\n",
            "test_Operator_string_representation (tests.core.test_operator.TestOperator) ... ok\n",
            "test_Pattern_contains_method (tests.core.test_pattern.TestPattern) ... ok\n",
            "test_Pattern_general (tests.core.test_pattern.TestPattern) ... ok\n",
            "test_Pattern_is_contained_method (tests.core.test_pattern.TestPattern) ... ok\n",
            "test_Pattern_is_refinement_method (tests.core.test_pattern.TestPattern) ... ok\n",
            "test_Selector_attributes (tests.core.test_selector.TestSelector) ... ok\n",
            "test_Selector_comparisons (tests.core.test_selector.TestSelector) ... ok\n",
            "test_Selector_creation_process (tests.core.test_selector.TestSelector) ... ok\n",
            "test_Selector_deletion_process (tests.core.test_selector.TestSelector) ... ok\n",
            "test_Selector_generate_from_str_method (tests.core.test_selector.TestSelector) ... ok\n",
            "test_Selector_match_method (tests.core.test_selector.TestSelector) ... "
          ]
        },
        {
          "output_type": "stream",
          "name": "stdout",
          "text": [
            "\n",
            "\n",
            "##################################\n",
            "########## CORE PACKAGE ##########\n",
            "##################################\n"
          ]
        },
        {
          "output_type": "stream",
          "name": "stderr",
          "text": [
            "ok\n",
            "test_Selector_same_value_different_type (tests.core.test_selector.TestSelector) ... ok\n",
            "test_Subgroup_filter (tests.core.test_subgroup.TestSubgroup) ... ok\n",
            "test_Subgroup_general (tests.core.test_subgroup.TestSubgroup) ... ok\n",
            "test_Subgroup_is_refinement_method (tests.core.test_subgroup.TestSubgroup) ... ok\n",
            "\n",
            "----------------------------------------------------------------------\n",
            "Ran 18 tests in 0.361s\n",
            "\n",
            "OK\n",
            "test_quality_measures_compute (tests.quality_measures.test_quality_measures.TestQualityMeasures) ... ok\n",
            "test_quality_measures_general (tests.quality_measures.test_quality_measures.TestQualityMeasures) ... ok\n",
            "test_quality_measures_value_of_class_variables (tests.quality_measures.test_quality_measures.TestQualityMeasures) ... ok\n",
            "\n",
            "----------------------------------------------------------------------\n",
            "Ran 3 tests in 0.015s\n",
            "\n",
            "OK\n",
            "test_FPTreeForSDMap_build_tree_1 (tests.data_structures.test_fp_tree_for_sdmap.TestFPTreeForSDMap) ... "
          ]
        },
        {
          "output_type": "stream",
          "name": "stdout",
          "text": [
            "\n",
            "\n",
            "##############################################\n",
            "########## QUALITY MEASURES PACKAGE ##########\n",
            "##############################################\n",
            "\n",
            "\n",
            "#############################################\n",
            "########## DATA STRUCTURES PACKAGE ##########\n",
            "#############################################\n"
          ]
        },
        {
          "output_type": "stream",
          "name": "stderr",
          "text": [
            "ok\n",
            "test_FPTreeForSDMap_build_tree_2 (tests.data_structures.test_fp_tree_for_sdmap.TestFPTreeForSDMap) ... ok\n",
            "test_FPTreeForSDMap_build_tree_3 (tests.data_structures.test_fp_tree_for_sdmap.TestFPTreeForSDMap) ... ok\n",
            "test_FPTreeForSDMap_build_tree_4 (tests.data_structures.test_fp_tree_for_sdmap.TestFPTreeForSDMap) ... ok\n",
            "test_FPTreeForSDMap_generate_conditional_fp_tree_1 (tests.data_structures.test_fp_tree_for_sdmap.TestFPTreeForSDMap) ... ok\n",
            "test_FPTreeForSDMap_generate_conditional_fp_tree_2 (tests.data_structures.test_fp_tree_for_sdmap.TestFPTreeForSDMap) ... ok\n",
            "test_FPTreeForSDMap_generate_set_of_frequent_selectors_1 (tests.data_structures.test_fp_tree_for_sdmap.TestFPTreeForSDMap) ... ok\n",
            "test_FPTreeForSDMap_generate_set_of_frequent_selectors_2 (tests.data_structures.test_fp_tree_for_sdmap.TestFPTreeForSDMap) ... ok\n",
            "test_FPTreeForSDMap_generate_set_of_frequent_selectors_3 (tests.data_structures.test_fp_tree_for_sdmap.TestFPTreeForSDMap) ... ok\n",
            "test_FPTreeNode_general (tests.data_structures.test_fp_tree_node.TestFPTreeNode) ... ok\n",
            "test_subgroup_list_1 (tests.data_structures.test_subgroup_list.TestSubgroupList) ... ok\n",
            "test_subgroup_list_2 (tests.data_structures.test_subgroup_list.TestSubgroupList) ... ok\n",
            "test_subgroup_list_3 (tests.data_structures.test_subgroup_list.TestSubgroupList) ... ok\n",
            "test_subgroup_list_4 (tests.data_structures.test_subgroup_list.TestSubgroupList) ... ok\n",
            "test_subgroup_list_5 (tests.data_structures.test_subgroup_list.TestSubgroupList) ... ok\n",
            "test_vertical_list_1 (tests.data_structures.test_vertical_list_with_bitsets.TestVerticalListWithBitsets) ... ok\n",
            "test_vertical_list_2 (tests.data_structures.test_vertical_list_with_bitsets.TestVerticalListWithBitsets) ... ok\n",
            "test_vertical_list_3 (tests.data_structures.test_vertical_list_with_bitsets.TestVerticalListWithBitsets) ... ok\n",
            "test_vertical_list_str_method (tests.data_structures.test_vertical_list_with_bitsets.TestVerticalListWithBitsets) ... ok\n",
            "test_vertical_list_1 (tests.data_structures.test_vertical_list_with_sets.TestVerticalListWithSets) ... ok\n",
            "test_vertical_list_2 (tests.data_structures.test_vertical_list_with_sets.TestVerticalListWithSets) ... ok\n",
            "test_vertical_list_3 (tests.data_structures.test_vertical_list_with_sets.TestVerticalListWithSets) ... ok\n",
            "test_vertical_list_str_method (tests.data_structures.test_vertical_list_with_sets.TestVerticalListWithSets) ... ok\n",
            "\n",
            "----------------------------------------------------------------------\n",
            "Ran 23 tests in 1.398s\n",
            "\n",
            "OK\n",
            "test_DSLM_compute_overlap_factor_function_1 (tests.algorithms.subgroup_lists.test_dslm.TestDSLM) ... ok\n",
            "test_DSLM_compute_overlap_factor_function_2 (tests.algorithms.subgroup_lists.test_dslm.TestDSLM) ... ok\n",
            "test_DSLM_compute_overlap_factor_function_3 (tests.algorithms.subgroup_lists.test_dslm.TestDSLM) ... ok\n",
            "test_DSLM_counter_of_subgroups_1 (tests.algorithms.subgroup_lists.test_dslm.TestDSLM) ... ok\n",
            "test_DSLM_counter_of_subgroups_2 (tests.algorithms.subgroup_lists.test_dslm.TestDSLM) ... ok\n",
            "test_GMSL_fit_method_1 (tests.algorithms.subgroup_lists.test_gmsl.TestGMSL) ... ok\n",
            "test_GMSL_load_candidates_method_1 (tests.algorithms.subgroup_lists.test_gmsl.TestGMSL) ... ok\n",
            "test_GMSL_load_candidates_method_2 (tests.algorithms.subgroup_lists.test_gmsl.TestGMSL) ... ok\n",
            "test_GMSL_load_candidates_method_3 (tests.algorithms.subgroup_lists.test_gmsl.TestGMSL) ... ok\n",
            "test_GMSL_load_candidates_method_4 (tests.algorithms.subgroup_lists.test_gmsl.TestGMSL) ... ok\n",
            "test_GMSL_load_candidates_method_5 (tests.algorithms.subgroup_lists.test_gmsl.TestGMSL) ... ok\n",
            "test_GMSL_mdl_functions_1 (tests.algorithms.subgroup_lists.test_gmsl.TestGMSL) ... ok\n",
            "test_GMSL_mdl_functions_2 (tests.algorithms.subgroup_lists.test_gmsl.TestGMSL) ... ok\n",
            "test_GMSL_mdl_functions_3 (tests.algorithms.subgroup_lists.test_gmsl.TestGMSL) ... "
          ]
        },
        {
          "output_type": "stream",
          "name": "stdout",
          "text": [
            "\n",
            "\n",
            "########################################\n",
            "########## ALGORITHMS PACKAGE ##########\n",
            "########################################\n"
          ]
        },
        {
          "output_type": "stream",
          "name": "stderr",
          "text": [
            "ok\n",
            "test_BSD_cardinality (tests.algorithms.subgroup_sets.test_bsd.TestBSD) ... ok\n",
            "test_BSD_checkRel (tests.algorithms.subgroup_sets.test_bsd.TestBSD) ... ok\n",
            "test_BSD_checkRelevancies (tests.algorithms.subgroup_sets.test_bsd.TestBSD) ... ok\n",
            "test_BSD_fit1 (tests.algorithms.subgroup_sets.test_bsd.TestBSD) ... ok\n",
            "test_BSD_fit2 (tests.algorithms.subgroup_sets.test_bsd.TestBSD) ... ok\n",
            "test_BSD_fit3 (tests.algorithms.subgroup_sets.test_bsd.TestBSD) ... ok\n",
            "test_BSD_fit4 (tests.algorithms.subgroup_sets.test_bsd.TestBSD) ... ok\n",
            "test_BSD_init_method (tests.algorithms.subgroup_sets.test_bsd.TestBSD) ... ok\n",
            "test_BSD_logicalAnd (tests.algorithms.subgroup_sets.test_bsd.TestBSD) ... ok\n",
            "test_CBSD_checkRel (tests.algorithms.subgroup_sets.test_cbsd.TestCBSD) ... ok\n",
            "test_CBSD_checkRelevancies (tests.algorithms.subgroup_sets.test_cbsd.TestCBSD) ... ok\n",
            "test_CBSD_fit1 (tests.algorithms.subgroup_sets.test_cbsd.TestCBSD) ... ok\n",
            "test_CBSD_fit2 (tests.algorithms.subgroup_sets.test_cbsd.TestCBSD) ... ok\n",
            "test_CBSD_fit3 (tests.algorithms.subgroup_sets.test_cbsd.TestCBSD) ... ok\n",
            "test_CBSD_fit4 (tests.algorithms.subgroup_sets.test_cbsd.TestCBSD) ... ok\n",
            "test_CBSD_init_method (tests.algorithms.subgroup_sets.test_cbsd.TestCBSD) ... ok\n",
            "test_CPBSD_checkRel (tests.algorithms.subgroup_sets.test_cpbsd.TestCPBSD) ... ok\n",
            "test_CPBSD_checkRelevancies (tests.algorithms.subgroup_sets.test_cpbsd.TestCPBSD) ... ok\n",
            "test_CPBSD_fit1 (tests.algorithms.subgroup_sets.test_cpbsd.TestCPBSD) ... ok\n",
            "test_CPBSD_fit2 (tests.algorithms.subgroup_sets.test_cpbsd.TestCPBSD) ... ok\n",
            "test_CPBSD_fit3 (tests.algorithms.subgroup_sets.test_cpbsd.TestCPBSD) ... ok\n",
            "test_CPBSD_fit4 (tests.algorithms.subgroup_sets.test_cpbsd.TestCPBSD) ... ok\n",
            "test_CPBSD_init_method (tests.algorithms.subgroup_sets.test_cpbsd.TestCPBSD) ... ok\n",
            "test_QFinder_fit (tests.algorithms.subgroup_sets.test_qfinder.TestQFinder) ... ok\n",
            "test_QFinder_generate_candidate_patterns1 (tests.algorithms.subgroup_sets.test_qfinder.TestQFinder) ... ok\n",
            "test_QFinder_generate_candidate_patterns2 (tests.algorithms.subgroup_sets.test_qfinder.TestQFinder) ... ok\n",
            "test_QFinder_handle_individual_result (tests.algorithms.subgroup_sets.test_qfinder.TestQFinder) ... ok\n",
            "test_QFinder_init_method1 (tests.algorithms.subgroup_sets.test_qfinder.TestQFinder) ... ok\n",
            "test_QFinder_init_method2 (tests.algorithms.subgroup_sets.test_qfinder.TestQFinder) ... ok\n",
            "test_SDMap_additional_parameters_in_fit_method (tests.algorithms.subgroup_sets.test_sdmap.TestSDMap) ... ok\n",
            "test_SDMap_fit_method_1 (tests.algorithms.subgroup_sets.test_sdmap.TestSDMap) ... ok\n",
            "test_SDMap_fit_method_10 (tests.algorithms.subgroup_sets.test_sdmap.TestSDMap) ... ok\n",
            "test_SDMap_fit_method_11 (tests.algorithms.subgroup_sets.test_sdmap.TestSDMap) ... ok\n",
            "test_SDMap_fit_method_2 (tests.algorithms.subgroup_sets.test_sdmap.TestSDMap) ... ok\n",
            "test_SDMap_fit_method_3 (tests.algorithms.subgroup_sets.test_sdmap.TestSDMap) ... ok\n",
            "test_SDMap_fit_method_4 (tests.algorithms.subgroup_sets.test_sdmap.TestSDMap) ... ok\n",
            "test_SDMap_fit_method_5 (tests.algorithms.subgroup_sets.test_sdmap.TestSDMap) ... ok\n",
            "test_SDMap_fit_method_6 (tests.algorithms.subgroup_sets.test_sdmap.TestSDMap) ... ok\n",
            "test_SDMap_fit_method_7 (tests.algorithms.subgroup_sets.test_sdmap.TestSDMap) ... ok\n",
            "test_SDMap_fit_method_8 (tests.algorithms.subgroup_sets.test_sdmap.TestSDMap) ... ok\n",
            "test_SDMap_fit_method_9 (tests.algorithms.subgroup_sets.test_sdmap.TestSDMap) ... ok\n",
            "test_SDMap_fpgrowth_method_1 (tests.algorithms.subgroup_sets.test_sdmap.TestSDMap) ... ok\n",
            "test_SDMap_fpgrowth_method_2 (tests.algorithms.subgroup_sets.test_sdmap.TestSDMap) ... ok\n",
            "test_SDMap_fpgrowth_method_3 (tests.algorithms.subgroup_sets.test_sdmap.TestSDMap) ... ok\n",
            "test_SDMap_fpgrowth_method_4 (tests.algorithms.subgroup_sets.test_sdmap.TestSDMap) ... ok\n",
            "test_SDMap_init_method_1 (tests.algorithms.subgroup_sets.test_sdmap.TestSDMap) ... ok\n",
            "test_SDMap_init_method_2 (tests.algorithms.subgroup_sets.test_sdmap.TestSDMap) ... ok\n",
            "test_SDMap_unselected_and_selected_subgroups (tests.algorithms.subgroup_sets.test_sdmap.TestSDMap) ... ok\n",
            "test_SDMapStar_additional_parameters_in_fit_method (tests.algorithms.subgroup_sets.test_sdmapstar.TestSDMapStar) ... ok\n",
            "test_SDMapStar_fit_method_1 (tests.algorithms.subgroup_sets.test_sdmapstar.TestSDMapStar) ... ok\n",
            "test_SDMapStar_fit_method_10 (tests.algorithms.subgroup_sets.test_sdmapstar.TestSDMapStar) ... ok\n",
            "test_SDMapStar_fit_method_2 (tests.algorithms.subgroup_sets.test_sdmapstar.TestSDMapStar) ... ok\n",
            "test_SDMapStar_fit_method_3 (tests.algorithms.subgroup_sets.test_sdmapstar.TestSDMapStar) ... ok\n",
            "test_SDMapStar_fit_method_4 (tests.algorithms.subgroup_sets.test_sdmapstar.TestSDMapStar) ... ok\n",
            "test_SDMapStar_fit_method_5 (tests.algorithms.subgroup_sets.test_sdmapstar.TestSDMapStar) ... ok\n",
            "test_SDMapStar_fit_method_6 (tests.algorithms.subgroup_sets.test_sdmapstar.TestSDMapStar) ... ok\n",
            "test_SDMapStar_fit_method_7 (tests.algorithms.subgroup_sets.test_sdmapstar.TestSDMapStar) ... ok\n",
            "test_SDMapStar_fit_method_8 (tests.algorithms.subgroup_sets.test_sdmapstar.TestSDMapStar) ... ok\n",
            "test_SDMapStar_fit_method_9 (tests.algorithms.subgroup_sets.test_sdmapstar.TestSDMapStar) ... ok\n",
            "test_SDMapStar_fpgrowth_method_1 (tests.algorithms.subgroup_sets.test_sdmapstar.TestSDMapStar) ... ok\n",
            "test_SDMapStar_fpgrowth_method_2 (tests.algorithms.subgroup_sets.test_sdmapstar.TestSDMapStar) ... ok\n",
            "test_SDMapStar_fpgrowth_method_3 (tests.algorithms.subgroup_sets.test_sdmapstar.TestSDMapStar) ... ok\n",
            "test_SDMapStar_fpgrowth_method_4 (tests.algorithms.subgroup_sets.test_sdmapstar.TestSDMapStar) ... ok\n",
            "test_SDMapStar_init_method_1 (tests.algorithms.subgroup_sets.test_sdmapstar.TestSDMapStar) ... ok\n",
            "test_SDMapStar_init_method_2 (tests.algorithms.subgroup_sets.test_sdmapstar.TestSDMapStar) ... ok\n",
            "test_SDMapStar_unselected_and_selected_subgroups_1 (tests.algorithms.subgroup_sets.test_sdmapstar.TestSDMapStar) ... ok\n",
            "test_SDMapStar_unselected_and_selected_subgroups_2 (tests.algorithms.subgroup_sets.test_sdmapstar.TestSDMapStar) ... ok\n",
            "test_VLSD_additional_parameters_in_fit_method (tests.algorithms.subgroup_sets.test_vlsd.TestVLSD) ... ok\n",
            "test_VLSD_fit_method_1 (tests.algorithms.subgroup_sets.test_vlsd.TestVLSD) ... ok\n",
            "test_VLSD_fit_method_2 (tests.algorithms.subgroup_sets.test_vlsd.TestVLSD) ... ok\n",
            "test_VLSD_fit_method_3 (tests.algorithms.subgroup_sets.test_vlsd.TestVLSD) ... ok\n",
            "test_VLSD_fit_method_4 (tests.algorithms.subgroup_sets.test_vlsd.TestVLSD) ... ok\n",
            "test_VLSD_fit_method_5 (tests.algorithms.subgroup_sets.test_vlsd.TestVLSD) ... ok\n",
            "test_VLSD_fit_method_6 (tests.algorithms.subgroup_sets.test_vlsd.TestVLSD) ... ok\n",
            "test_VLSD_fit_method_7 (tests.algorithms.subgroup_sets.test_vlsd.TestVLSD) ... ok\n",
            "test_VLSD_init_method_1 (tests.algorithms.subgroup_sets.test_vlsd.TestVLSD) ... ok\n",
            "test_VLSD_init_method_2 (tests.algorithms.subgroup_sets.test_vlsd.TestVLSD) ... ok\n",
            "\n",
            "----------------------------------------------------------------------\n",
            "Ran 91 tests in 5.618s\n",
            "\n",
            "OK\n",
            "test_dataframe_filters_general (tests.utils.test_dataframe_filters.TestDataFrameFilter) ... ok\n",
            "test_to_input_format_for_subgroup_list_algorithms_1 (tests.utils.test_file_format_transformations.TestToInputFormatForSubgroupListAlgorithms) ... ok\n",
            "test_to_input_format_for_subgroup_list_algorithms_2 (tests.utils.test_file_format_transformations.TestToInputFormatForSubgroupListAlgorithms) ... ok\n",
            "test_to_input_format_for_subgroup_list_algorithms_3 (tests.utils.test_file_format_transformations.TestToInputFormatForSubgroupListAlgorithms) ... ok\n",
            "\n",
            "----------------------------------------------------------------------\n",
            "Ran 4 tests in 0.048s\n",
            "\n",
            "OK\n"
          ]
        },
        {
          "output_type": "stream",
          "name": "stdout",
          "text": [
            "\n",
            "\n",
            "###################################\n",
            "########## UTILS PACKAGE ##########\n",
            "###################################\n"
          ]
        }
      ],
      "source": [
        "import subgroups.tests as st\n",
        "st.run_all_tests()\n"
      ]
    },
    {
      "cell_type": "code",
      "execution_count": null,
      "metadata": {
        "id": "v2JbgO0r9PYx",
        "colab": {
          "base_uri": "https://localhost:8080/"
        },
        "outputId": "369632d3-1bee-4ce9-dce6-fc8b8458b9cc"
      },
      "outputs": [
        {
          "output_type": "stream",
          "name": "stdout",
          "text": [
            "<class 'pandas.core.frame.DataFrame'>\n",
            "RangeIndex: 1000 entries, 0 to 999\n",
            "Data columns (total 10 columns):\n",
            " #   Column              Non-Null Count  Dtype \n",
            "---  ------              --------------  ----- \n",
            " 0   longitude           1000 non-null   object\n",
            " 1   latitude            1000 non-null   object\n",
            " 2   housing_median_age  1000 non-null   object\n",
            " 3   total_rooms         1000 non-null   object\n",
            " 4   total_bedrooms      1000 non-null   object\n",
            " 5   population          1000 non-null   object\n",
            " 6   households          1000 non-null   object\n",
            " 7   median_income       1000 non-null   object\n",
            " 8   median_house_value  1000 non-null   object\n",
            " 9   ocean_proximity     1000 non-null   object\n",
            "dtypes: object(10)\n",
            "memory usage: 78.2+ KB\n"
          ]
        }
      ],
      "source": [
        "from pathlib import Path\n",
        "import pandas as pd\n",
        "import tarfile\n",
        "import urllib.request\n",
        "\n",
        "def load_housing_data():\n",
        "    tarball_path = Path(\"datasets/housing.tgz\")\n",
        "    if not tarball_path.is_file():\n",
        "        Path(\"datasets\").mkdir(parents=True, exist_ok=True)\n",
        "        url = \"https://github.com/ageron/data/raw/main/housing.tgz\"\n",
        "        urllib.request.urlretrieve(url, tarball_path)\n",
        "        with tarfile.open(tarball_path) as housing_tarball:\n",
        "            housing_tarball.extractall(path=\"datasets\")\n",
        "    return pd.read_csv(Path(\"datasets/housing/housing.csv\"))\n",
        "# Knihovna pozaduje nominalni hodnoty\n",
        "# DatasetAttributeTypeError: Error in attribute 'longitude'. This algorithm only supports nominal attributes (i.e., type 'str').\n",
        "\n",
        "housing = load_housing_data()\n",
        "housing['longitude'] = housing['longitude'].astype(str)\n",
        "housing['latitude'] = housing['latitude'].astype(str)\n",
        "housing['ocean_proximity'] = housing['ocean_proximity'].astype(str)\n",
        "housing['households'] = housing['households'].astype(str)\n",
        "housing['total_rooms'] = housing['total_rooms'].astype(str)\n",
        "housing['total_bedrooms'] = housing['total_bedrooms'].astype(str)\n",
        "housing['population'] = housing['population'].astype(str)\n",
        "housing['median_income'] = housing['median_income'].astype(str)\n",
        "housing['median_house_value'] = housing['median_house_value'].astype(str)\n",
        "housing['housing_median_age'] = housing['housing_median_age'].astype(str)\n",
        "\n",
        "# Fitovani na cely dataset trvalo moc dlouho\n",
        "housing_reduced = housing.iloc[:1000]\n",
        "housing_reduced.info()\n",
        "# housing_reduced.head()\n"
      ]
    },
    {
      "cell_type": "code",
      "execution_count": null,
      "metadata": {
        "id": "m8C078Ox58ew"
      },
      "outputs": [],
      "source": [
        "#Dataset na kterem ukazovali funkcnost v clanku\n",
        "\n",
        "# from subgroups import datasets\n",
        "# dataset = datasets.load_car_evaluation_csv()\n",
        "# print((dataset.groupby('class')['doors']).head())\n",
        "# dataset['doors'].dtype"
      ]
    },
    {
      "cell_type": "code",
      "execution_count": null,
      "metadata": {
        "id": "Fodbtlbp5FSq"
      },
      "outputs": [],
      "source": [
        "from subgroups.quality_measures import WRAcc\n",
        "from subgroups.quality_measures import WRAccOptimisticEstimate1\n",
        "from subgroups.algorithms import VLSD\n",
        "from subgroups.algorithms import SDMapStar\n",
        "from subgroups.algorithms import SDMap\n",
        "from subgroups.algorithms import DSLM\n",
        "from subgroups.algorithms import GMSL\n",
        "from subgroups.algorithms import QFinder\n",
        "from subgroups.algorithms import BSD\n",
        "from subgroups.utils.file_format_transformations import to_input_format_for_subgroup_list_algorithms\n",
        "\n",
        "\n",
        "\n",
        "dataset = housing_reduced\n",
        "target = ('ocean_proximity', 'NEAR BAY')\n",
        "\n",
        "# Parametery jsou nastaveny stejne jako u ukazek na githubu Subgroups\n",
        "vlsd = VLSD(quality_measure = WRAcc(), q_minimum_threshold  = -1, optimistic_estimate = WRAccOptimisticEstimate1(), oe_minimum_threshold = -1, sort_criterion_in_s1 = VLSD.SORT_CRITERION_NO_ORDER, sort_criterion_in_other_sizes = VLSD.SORT_CRITERION_NO_ORDER, vertical_lists_implementation = VLSD.VERTICAL_LISTS_WITH_BITSETS, write_results_in_file = True, file_path = \"./vlsd_result.txt\")\n",
        "sdmap = SDMap(quality_measure = WRAcc(), minimum_quality_measure_value = -1, minimum_n = 0, write_results_in_file = True, file_path = \"./sdmap_results.txt\")\n",
        "# sdmapstar pozaduje pocet hledanych subgroup\n",
        "sdmapstar = SDMapStar(WRAcc(), WRAccOptimisticEstimate1(), 0.01, num_subgroups=3, minimum_n = 0, write_results_in_file=True, file_path=\"./sdmapstar_results.txt\")\n",
        "bsd = BSD(min_support=0, quality_measure=WRAcc(), optimistic_estimate = WRAccOptimisticEstimate1(), num_subgroups=600, max_depth=100, write_results_in_file = True, file_path = \"./bsd_results.txt\" )\n",
        "\n",
        "methods = [vlsd, sdmap, sdmapstar, bsd]\n",
        "for method in methods:\n",
        "    method.fit(dataset, target)"
      ]
    },
    {
      "cell_type": "markdown",
      "source": [
        "**Subgroups found by each method:**"
      ],
      "metadata": {
        "id": "mKa9-GDrjVJa"
      }
    },
    {
      "cell_type": "code",
      "execution_count": null,
      "metadata": {
        "colab": {
          "base_uri": "https://localhost:8080/"
        },
        "id": "qNviW7evOJdj",
        "outputId": "5705df59-fb92-42a4-f10f-a15f36f4ee4e"
      },
      "outputs": [
        {
          "output_type": "stream",
          "name": "stdout",
          "text": [
            "Subgroups selected by <subgroups.algorithms.subgroup_sets.vlsd.VLSD object at 0x7f166e18ee60> :  506899\n",
            "Subgroups selected by <subgroups.algorithms.subgroup_sets.sdmap.SDMap object at 0x7f166e197990> :  506899\n",
            "Subgroups selected by <subgroups.algorithms.subgroup_sets.sdmapstar.SDMapStar object at 0x7f1665ac1620> :  11\n",
            "Subgroups selected by <subgroups.algorithms.subgroup_sets.bsd.BSD object at 0x7f1665ac14e0> :  8\n"
          ]
        }
      ],
      "source": [
        "for i in methods:\n",
        "    print(\"Subgroups selected by \" + str(i) + \" : \", i.selected_subgroups)\n",
        "  # print(\"Unselected subgroups: \", sdmap.unselected_subgroups)\n",
        "  # print(\"Visited nodes: \", sdmap.visited_nodes)"
      ]
    },
    {
      "cell_type": "markdown",
      "source": [
        "**VLSD (Vertical List Subgroup Discovery)**\n",
        "\n",
        "paper: https://www.mdpi.com/1999-4893/16/6/274\n",
        "\n",
        "> Differences between this technique and others, such as clustering, pattern mining, or classification.\n",
        "Clustering and pattern mining algorithms are unsupervised and do not use an output attribute or class, while SD algorithms are supervised and generate relations (called subgroups) with respect to a **target attribute.**\n",
        "\n",
        "*// na konci clanku je benchmark VLSD vs SD-Map vs BSD vs CBSD vs CPBSD strana 16-17*\n"
      ],
      "metadata": {
        "id": "rUpwiXxDo15I"
      }
    },
    {
      "cell_type": "markdown",
      "source": [
        "**SD-Map**\n",
        "\n",
        "paper: https://link.springer.com/chapter/10.1007/11871637_6\n",
        "\n",
        "\n",
        ">  an exhaustive search method, uses frequent pattern trees (FP-Tree)\n",
        "\n"
      ],
      "metadata": {
        "id": "Dc5dCDW4vYOc"
      }
    },
    {
      "cell_type": "markdown",
      "source": [
        "**SD-Map***\n",
        "\n",
        "paper: https://link.springer.com/chapter/10.1007/978-3-642-04125-9_7\n",
        "//od 49 strany\n",
        "\n",
        "\n",
        "\n",
        "\n",
        ">SD-Map* algorithm as a novel adaptation of the efficient SD-Map algorithm.\n",
        "Efficiently adapt exhaustive subgroup discovery for continuous target concepts.\n",
        "Basic principle of optimistic estimates is to safely prune parts of the search space...\n",
        "\n"
      ],
      "metadata": {
        "id": "1WFCoUCh1TPV"
      }
    },
    {
      "cell_type": "markdown",
      "source": [
        "**Q-finder**\n",
        "\n",
        "paper: https://www.frontiersin.org/journals/artificial-intelligence/articles/10.3389/frai.2020.559927/full\n",
        "\n",
        "\n",
        "\n",
        ">  It combines an\n",
        "exhaustive search with a cascade of filters based on metrics assessing key credibility criteria,\n",
        "including relative risk reduction assessment, adjustment on confounding factors, individual\n",
        "feature’s contribution to the subgroup’s effect, interaction tests for assessing betweensubgroup treatment effect interactions and tests adjustment (multiple testing).\n",
        "\n"
      ],
      "metadata": {
        "id": "kkih5x_I9cOc"
      }
    },
    {
      "cell_type": "markdown",
      "source": [
        "**BSD, Closed BSD and Closed on the positives BSD**\n",
        "\n",
        "paper: https://cdn.aaai.org/ocs/1262/1262-7800-1-PB.pdf\n",
        "\n",
        "\n",
        "> BSD is a subgroup discovery algorithm that introduces the concept of dominance relation between subgroups. This algorithm also uses a list of the\n",
        " best subgroups along with an optimistic estimation to prune the search space.\n",
        "\n",
        "\n",
        "\n"
      ],
      "metadata": {
        "id": "3ACvs6OypSQP"
      }
    },
    {
      "cell_type": "markdown",
      "source": [
        "**DSLM (Diverse Subgroup Lists Miner)**\n",
        "\n",
        "paper: https://doi.org/10.1007/978-3-031-34344-5_6 //strana 45-50\n",
        "\n",
        "\n",
        "> generates subgroup\n",
        "lists based on the subgroup discovery paradigm and the minimum description\n",
        "length principle\n",
        "\n"
      ],
      "metadata": {
        "id": "oJPdWhqurads"
      }
    },
    {
      "cell_type": "markdown",
      "source": [
        "**GMSL (Generation of Multiple Subgroup Lists)**\n",
        "\n",
        "paper: https://doi.org/10.1007/978-3-031-30047-9_21 //strana 262-273\n",
        "\n",
        "\n",
        ">  an algorithm that takes a set of\n",
        "pre-computed subgroup candidates as input and returns a collection of diverse\n",
        "top-k subgroup lists\n",
        "\n"
      ],
      "metadata": {
        "id": "395-oecbw5K7"
      }
    },
    {
      "cell_type": "code",
      "source": [],
      "metadata": {
        "id": "K0wF749SjFiS"
      },
      "execution_count": null,
      "outputs": []
    }
  ],
  "metadata": {
    "colab": {
      "provenance": []
    },
    "kernelspec": {
      "display_name": "Python 3",
      "name": "python3"
    }
  },
  "nbformat": 4,
  "nbformat_minor": 0
}